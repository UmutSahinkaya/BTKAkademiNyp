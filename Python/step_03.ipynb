{
 "cells": [
  {
   "cell_type": "code",
   "execution_count": 10,
   "metadata": {},
   "outputs": [],
   "source": [
    "class Product:\n",
    "    def __init__(self):\n",
    "        print(f\"An instance has been derived from Product class.\")\n",
    "    pass"
   ]
  },
  {
   "cell_type": "code",
   "execution_count": 11,
   "metadata": {},
   "outputs": [
    {
     "name": "stdout",
     "output_type": "stream",
     "text": [
      "An instance has been derived from Product class.\n"
     ]
    }
   ],
   "source": [
    "item1 = Product()\n",
    "\n",
    "# dinamik özellik tanımı \n",
    "item1.name = \"Laptop\"\n",
    "item1.price = 799.99\n",
    "item1.quantity = 2"
   ]
  },
  {
   "cell_type": "code",
   "execution_count": 12,
   "metadata": {},
   "outputs": [
    {
     "name": "stdout",
     "output_type": "stream",
     "text": [
      "An instance has been derived from Product class.\n"
     ]
    }
   ],
   "source": [
    "item2 = Product()\n",
    "\n",
    "# dinamik özellik tanımı \n",
    "item2.name = \"Computer\"\n",
    "item2.price = 1999.99\n",
    "item2.quantity = 3"
   ]
  }
 ],
 "metadata": {
  "kernelspec": {
   "display_name": "Python 3",
   "language": "python",
   "name": "python3"
  },
  "language_info": {
   "codemirror_mode": {
    "name": "ipython",
    "version": 3
   },
   "file_extension": ".py",
   "mimetype": "text/x-python",
   "name": "python",
   "nbconvert_exporter": "python",
   "pygments_lexer": "ipython3",
   "version": "3.9.13"
  },
  "orig_nbformat": 4
 },
 "nbformat": 4,
 "nbformat_minor": 2
}
